{
 "cells": [
  {
   "cell_type": "code",
   "id": "initial_id",
   "metadata": {
    "ExecuteTime": {
     "end_time": "2025-03-23T13:33:48.067857Z",
     "start_time": "2025-03-23T13:33:48.057957Z"
    }
   },
   "source": [
    "from theory_patterns import table1\n",
    "\n",
    "no_symbols_list = [615, 945, 2483]\n",
    "context_list = [3, 4, 5, 6, 7, 8]\n",
    "sequence_length = 15\n",
    "epsilon = 0.001\n",
    "accuracy = 0.0001\n",
    "\n",
    "table1_dataframe, caption = table1(no_symbols_list, context_list, sequence_length, epsilon, accuracy)\n",
    "display(table1_dataframe.style.format('{:.0f}').set_caption(caption))\n"
   ],
   "outputs": [
    {
     "data": {
      "text/plain": [
       "<pandas.io.formats.style.Styler at 0x10673c0b0>"
      ],
      "text/html": [
       "<style type=\"text/css\">\n",
       "</style>\n",
       "<table id=\"T_ea469\">\n",
       "  <caption>Memory capacity as function of the context objects for sequence length 15, epsilon 0.001.</caption>\n",
       "  <thead>\n",
       "    <tr>\n",
       "      <th class=\"blank level0\" >&nbsp;</th>\n",
       "      <th id=\"T_ea469_level0_col0\" class=\"col_heading level0 col0\" >3</th>\n",
       "      <th id=\"T_ea469_level0_col1\" class=\"col_heading level0 col1\" >4</th>\n",
       "      <th id=\"T_ea469_level0_col2\" class=\"col_heading level0 col2\" >5</th>\n",
       "      <th id=\"T_ea469_level0_col3\" class=\"col_heading level0 col3\" >6</th>\n",
       "      <th id=\"T_ea469_level0_col4\" class=\"col_heading level0 col4\" >7</th>\n",
       "      <th id=\"T_ea469_level0_col5\" class=\"col_heading level0 col5\" >8</th>\n",
       "    </tr>\n",
       "  </thead>\n",
       "  <tbody>\n",
       "    <tr>\n",
       "      <th id=\"T_ea469_level0_row0\" class=\"row_heading level0 row0\" >615</th>\n",
       "      <td id=\"T_ea469_row0_col0\" class=\"data row0 col0\" >50</td>\n",
       "      <td id=\"T_ea469_row0_col1\" class=\"data row0 col1\" >243</td>\n",
       "      <td id=\"T_ea469_row0_col2\" class=\"data row0 col2\" >557</td>\n",
       "      <td id=\"T_ea469_row0_col3\" class=\"data row0 col3\" >919</td>\n",
       "      <td id=\"T_ea469_row0_col4\" class=\"data row0 col4\" >1289</td>\n",
       "      <td id=\"T_ea469_row0_col5\" class=\"data row0 col5\" >1646</td>\n",
       "    </tr>\n",
       "    <tr>\n",
       "      <th id=\"T_ea469_level0_row1\" class=\"row_heading level0 row1\" >945</th>\n",
       "      <td id=\"T_ea469_row1_col0\" class=\"data row1 col0\" >94</td>\n",
       "      <td id=\"T_ea469_row1_col1\" class=\"data row1 col1\" >505</td>\n",
       "      <td id=\"T_ea469_row1_col2\" class=\"data row1 col2\" >1203</td>\n",
       "      <td id=\"T_ea469_row1_col3\" class=\"data row1 col3\" >2029</td>\n",
       "      <td id=\"T_ea469_row1_col4\" class=\"data row1 col4\" >2881</td>\n",
       "      <td id=\"T_ea469_row1_col5\" class=\"data row1 col5\" >3711</td>\n",
       "    </tr>\n",
       "    <tr>\n",
       "      <th id=\"T_ea469_level0_row2\" class=\"row_heading level0 row2\" >2483</th>\n",
       "      <td id=\"T_ea469_row2_col0\" class=\"data row2 col0\" >401</td>\n",
       "      <td id=\"T_ea469_row2_col1\" class=\"data row2 col1\" >2614</td>\n",
       "      <td id=\"T_ea469_row2_col2\" class=\"data row2 col2\" >6818</td>\n",
       "      <td id=\"T_ea469_row2_col3\" class=\"data row2 col3\" >12070</td>\n",
       "      <td id=\"T_ea469_row2_col4\" class=\"data row2 col4\" >17640</td>\n",
       "      <td id=\"T_ea469_row2_col5\" class=\"data row2 col5\" >23156</td>\n",
       "    </tr>\n",
       "  </tbody>\n",
       "</table>\n"
      ]
     },
     "metadata": {},
     "output_type": "display_data"
    }
   ],
   "execution_count": 4
  },
  {
   "cell_type": "markdown",
   "id": "d844cfdceb34c1b7",
   "metadata": {},
   "source": []
  },
  {
   "cell_type": "code",
   "id": "de51831ee03e148c",
   "metadata": {
    "ExecuteTime": {
     "end_time": "2025-03-23T13:33:52.283190Z",
     "start_time": "2025-03-23T13:33:52.274540Z"
    }
   },
   "source": [
    "from theory_patterns import table4\n",
    "\n",
    "no_symbols_list = [615]\n",
    "context_list = [7, 6, 5, 4, 3]\n",
    "sequence_length = 15\n",
    "number_of_sequences = 1000\n",
    "\n",
    "table4_dataframe, caption = table4(no_symbols_list, context_list, sequence_length,\n",
    "                                   number_of_scenes=number_of_sequences)\n",
    "display(table4_dataframe.style.format('{:.2g}').set_caption(caption))"
   ],
   "outputs": [
    {
     "data": {
      "text/plain": [
       "<pandas.io.formats.style.Styler at 0x104fc6f90>"
      ],
      "text/html": [
       "<style type=\"text/css\">\n",
       "</style>\n",
       "<table id=\"T_167c2\">\n",
       "  <caption>Scene recognition error in % for various context for sequence length 15, no scenes 1000.</caption>\n",
       "  <thead>\n",
       "    <tr>\n",
       "      <th class=\"blank level0\" >&nbsp;</th>\n",
       "      <th id=\"T_167c2_level0_col0\" class=\"col_heading level0 col0\" >7</th>\n",
       "      <th id=\"T_167c2_level0_col1\" class=\"col_heading level0 col1\" >6</th>\n",
       "      <th id=\"T_167c2_level0_col2\" class=\"col_heading level0 col2\" >5</th>\n",
       "      <th id=\"T_167c2_level0_col3\" class=\"col_heading level0 col3\" >4</th>\n",
       "      <th id=\"T_167c2_level0_col4\" class=\"col_heading level0 col4\" >3</th>\n",
       "    </tr>\n",
       "  </thead>\n",
       "  <tbody>\n",
       "    <tr>\n",
       "      <th id=\"T_167c2_level0_row0\" class=\"row_heading level0 row0\" >615</th>\n",
       "      <td id=\"T_167c2_row0_col0\" class=\"data row0 col0\" >1e-07</td>\n",
       "      <td id=\"T_167c2_row0_col1\" class=\"data row0 col1\" >6.8e-06</td>\n",
       "      <td id=\"T_167c2_row0_col2\" class=\"data row0 col2\" >0.00042</td>\n",
       "      <td id=\"T_167c2_row0_col3\" class=\"data row0 col3\" >0.023</td>\n",
       "      <td id=\"T_167c2_row0_col4\" class=\"data row0 col4\" >1.2</td>\n",
       "    </tr>\n",
       "  </tbody>\n",
       "</table>\n"
      ]
     },
     "metadata": {},
     "output_type": "display_data"
    }
   ],
   "execution_count": 5
  },
  {
   "cell_type": "code",
   "id": "e892d5da7cc9723e",
   "metadata": {
    "ExecuteTime": {
     "end_time": "2025-03-23T13:33:56.144759Z",
     "start_time": "2025-03-23T13:33:56.055156Z"
    }
   },
   "source": [
    "from theory_patterns import table5\n",
    "\n",
    "no_symbols_list = [615, 945, 2483]\n",
    "sequence_length_list = [3, 10, 15, 20, 40, 45, 60, 70, 80, 90, 100]\n",
    "number_of_sequences = 1000\n",
    "epsilon = 0.001\n",
    "\n",
    "table5_dataframe, caption = table5(no_symbols_list, sequence_length_list, number_of_sequences, epsilon=epsilon)\n",
    "\n",
    "display(table5_dataframe.style.set_caption(caption))"
   ],
   "outputs": [
    {
     "data": {
      "text/plain": [
       "<pandas.io.formats.style.Styler at 0x104392600>"
      ],
      "text/html": [
       "<style type=\"text/css\">\n",
       "</style>\n",
       "<table id=\"T_8bd36\">\n",
       "  <caption>Required context size as a function of scene size for no scenes 1000, epsilon 0.001.</caption>\n",
       "  <thead>\n",
       "    <tr>\n",
       "      <th class=\"blank level0\" >&nbsp;</th>\n",
       "      <th id=\"T_8bd36_level0_col0\" class=\"col_heading level0 col0\" >3</th>\n",
       "      <th id=\"T_8bd36_level0_col1\" class=\"col_heading level0 col1\" >10</th>\n",
       "      <th id=\"T_8bd36_level0_col2\" class=\"col_heading level0 col2\" >15</th>\n",
       "      <th id=\"T_8bd36_level0_col3\" class=\"col_heading level0 col3\" >20</th>\n",
       "      <th id=\"T_8bd36_level0_col4\" class=\"col_heading level0 col4\" >40</th>\n",
       "      <th id=\"T_8bd36_level0_col5\" class=\"col_heading level0 col5\" >45</th>\n",
       "      <th id=\"T_8bd36_level0_col6\" class=\"col_heading level0 col6\" >60</th>\n",
       "      <th id=\"T_8bd36_level0_col7\" class=\"col_heading level0 col7\" >70</th>\n",
       "      <th id=\"T_8bd36_level0_col8\" class=\"col_heading level0 col8\" >80</th>\n",
       "      <th id=\"T_8bd36_level0_col9\" class=\"col_heading level0 col9\" >90</th>\n",
       "      <th id=\"T_8bd36_level0_col10\" class=\"col_heading level0 col10\" >100</th>\n",
       "    </tr>\n",
       "  </thead>\n",
       "  <tbody>\n",
       "    <tr>\n",
       "      <th id=\"T_8bd36_level0_row0\" class=\"row_heading level0 row0\" >615</th>\n",
       "      <td id=\"T_8bd36_row0_col0\" class=\"data row0 col0\" >None</td>\n",
       "      <td id=\"T_8bd36_row0_col1\" class=\"data row0 col1\" >5</td>\n",
       "      <td id=\"T_8bd36_row0_col2\" class=\"data row0 col2\" >5</td>\n",
       "      <td id=\"T_8bd36_row0_col3\" class=\"data row0 col3\" >6</td>\n",
       "      <td id=\"T_8bd36_row0_col4\" class=\"data row0 col4\" >7</td>\n",
       "      <td id=\"T_8bd36_row0_col5\" class=\"data row0 col5\" >7</td>\n",
       "      <td id=\"T_8bd36_row0_col6\" class=\"data row0 col6\" >8</td>\n",
       "      <td id=\"T_8bd36_row0_col7\" class=\"data row0 col7\" >9</td>\n",
       "      <td id=\"T_8bd36_row0_col8\" class=\"data row0 col8\" >9</td>\n",
       "      <td id=\"T_8bd36_row0_col9\" class=\"data row0 col9\" >10</td>\n",
       "      <td id=\"T_8bd36_row0_col10\" class=\"data row0 col10\" >10</td>\n",
       "    </tr>\n",
       "    <tr>\n",
       "      <th id=\"T_8bd36_level0_row1\" class=\"row_heading level0 row1\" >945</th>\n",
       "      <td id=\"T_8bd36_row1_col0\" class=\"data row1 col0\" >None</td>\n",
       "      <td id=\"T_8bd36_row1_col1\" class=\"data row1 col1\" >4</td>\n",
       "      <td id=\"T_8bd36_row1_col2\" class=\"data row1 col2\" >5</td>\n",
       "      <td id=\"T_8bd36_row1_col3\" class=\"data row1 col3\" >5</td>\n",
       "      <td id=\"T_8bd36_row1_col4\" class=\"data row1 col4\" >6</td>\n",
       "      <td id=\"T_8bd36_row1_col5\" class=\"data row1 col5\" >6</td>\n",
       "      <td id=\"T_8bd36_row1_col6\" class=\"data row1 col6\" >7</td>\n",
       "      <td id=\"T_8bd36_row1_col7\" class=\"data row1 col7\" >7</td>\n",
       "      <td id=\"T_8bd36_row1_col8\" class=\"data row1 col8\" >8</td>\n",
       "      <td id=\"T_8bd36_row1_col9\" class=\"data row1 col9\" >8</td>\n",
       "      <td id=\"T_8bd36_row1_col10\" class=\"data row1 col10\" >9</td>\n",
       "    </tr>\n",
       "    <tr>\n",
       "      <th id=\"T_8bd36_level0_row2\" class=\"row_heading level0 row2\" >2483</th>\n",
       "      <td id=\"T_8bd36_row2_col0\" class=\"data row2 col0\" >None</td>\n",
       "      <td id=\"T_8bd36_row2_col1\" class=\"data row2 col1\" >4</td>\n",
       "      <td id=\"T_8bd36_row2_col2\" class=\"data row2 col2\" >4</td>\n",
       "      <td id=\"T_8bd36_row2_col3\" class=\"data row2 col3\" >4</td>\n",
       "      <td id=\"T_8bd36_row2_col4\" class=\"data row2 col4\" >5</td>\n",
       "      <td id=\"T_8bd36_row2_col5\" class=\"data row2 col5\" >5</td>\n",
       "      <td id=\"T_8bd36_row2_col6\" class=\"data row2 col6\" >5</td>\n",
       "      <td id=\"T_8bd36_row2_col7\" class=\"data row2 col7\" >6</td>\n",
       "      <td id=\"T_8bd36_row2_col8\" class=\"data row2 col8\" >6</td>\n",
       "      <td id=\"T_8bd36_row2_col9\" class=\"data row2 col9\" >6</td>\n",
       "      <td id=\"T_8bd36_row2_col10\" class=\"data row2 col10\" >6</td>\n",
       "    </tr>\n",
       "  </tbody>\n",
       "</table>\n"
      ]
     },
     "metadata": {},
     "output_type": "display_data"
    }
   ],
   "execution_count": 6
  }
 ],
 "metadata": {
  "kernelspec": {
   "display_name": "Python 3 (ipykernel)",
   "language": "python",
   "name": "python3"
  },
  "language_info": {
   "codemirror_mode": {
    "name": "ipython",
    "version": 3
   },
   "file_extension": ".py",
   "mimetype": "text/x-python",
   "name": "python",
   "nbconvert_exporter": "python",
   "pygments_lexer": "ipython3",
   "version": "3.12.7"
  }
 },
 "nbformat": 4,
 "nbformat_minor": 5
}
