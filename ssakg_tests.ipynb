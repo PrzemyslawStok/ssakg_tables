{
 "cells": [
  {
   "cell_type": "code",
   "id": "initial_id",
   "metadata": {
    "ExecuteTime": {
     "end_time": "2025-03-23T14:03:03.896124Z",
     "start_time": "2025-03-23T14:02:52.067435Z"
    }
   },
   "source": [
    "from ssakg_tests import table3\n",
    "\n",
    "no_symbols_list = [1000, 2000]\n",
    "context_list = [8, 6, 5, 4, 3]\n",
    "sequence_length = 15\n",
    "number_of_sequences = 1000\n",
    "unique_elements = True\n",
    "\n",
    "table3_dataframe, caption = table3(symbols_list=no_symbols_list, context_list=context_list,\n",
    "                                   sequence_length=sequence_length,\n",
    "                                   number_of_sequences=number_of_sequences, unique_elements=unique_elements,\n",
    "                                   show_progress=False)\n",
    "\n",
    "display(table3_dataframe.style.format('{:.3g}').set_caption(caption))"
   ],
   "outputs": [
    {
     "data": {
      "text/plain": [
       "<pandas.io.formats.style.Styler at 0x127921460>"
      ],
      "text/html": [
       "<style type=\"text/css\">\n",
       "</style>\n",
       "<table id=\"T_0e6b7\">\n",
       "  <caption>Scene recognition error in % for various context for sequence length 15, no scenes 1000.</caption>\n",
       "  <thead>\n",
       "    <tr>\n",
       "      <th class=\"blank level0\" >&nbsp;</th>\n",
       "      <th id=\"T_0e6b7_level0_col0\" class=\"col_heading level0 col0\" >8</th>\n",
       "      <th id=\"T_0e6b7_level0_col1\" class=\"col_heading level0 col1\" >6</th>\n",
       "      <th id=\"T_0e6b7_level0_col2\" class=\"col_heading level0 col2\" >5</th>\n",
       "      <th id=\"T_0e6b7_level0_col3\" class=\"col_heading level0 col3\" >4</th>\n",
       "      <th id=\"T_0e6b7_level0_col4\" class=\"col_heading level0 col4\" >3</th>\n",
       "    </tr>\n",
       "  </thead>\n",
       "  <tbody>\n",
       "    <tr>\n",
       "      <th id=\"T_0e6b7_level0_row0\" class=\"row_heading level0 row0\" >1000</th>\n",
       "      <td id=\"T_0e6b7_row0_col0\" class=\"data row0 col0\" >0.3</td>\n",
       "      <td id=\"T_0e6b7_row0_col1\" class=\"data row0 col1\" >8.7</td>\n",
       "      <td id=\"T_0e6b7_row0_col2\" class=\"data row0 col2\" >30.6</td>\n",
       "      <td id=\"T_0e6b7_row0_col3\" class=\"data row0 col3\" >74.3</td>\n",
       "      <td id=\"T_0e6b7_row0_col4\" class=\"data row0 col4\" >99.6</td>\n",
       "    </tr>\n",
       "    <tr>\n",
       "      <th id=\"T_0e6b7_level0_row1\" class=\"row_heading level0 row1\" >2000</th>\n",
       "      <td id=\"T_0e6b7_row1_col0\" class=\"data row1 col0\" >0</td>\n",
       "      <td id=\"T_0e6b7_row1_col1\" class=\"data row1 col1\" >0</td>\n",
       "      <td id=\"T_0e6b7_row1_col2\" class=\"data row1 col2\" >0.3</td>\n",
       "      <td id=\"T_0e6b7_row1_col3\" class=\"data row1 col3\" >2.7</td>\n",
       "      <td id=\"T_0e6b7_row1_col4\" class=\"data row1 col4\" >27.3</td>\n",
       "    </tr>\n",
       "  </tbody>\n",
       "</table>\n"
      ]
     },
     "metadata": {},
     "output_type": "display_data"
    }
   ],
   "execution_count": 1
  },
  {
   "cell_type": "code",
   "id": "be0a6611dfc47241",
   "metadata": {
    "ExecuteTime": {
     "end_time": "2025-03-23T14:03:50.720519Z",
     "start_time": "2025-03-23T14:03:15.099133Z"
    }
   },
   "source": [
    "from ssakg_tests import table2\n",
    "\n",
    "no_symbols_list = [1000, 2000]\n",
    "context_length = 6\n",
    "sequence_length = 15\n",
    "number_of_sequences_list = [500, 1000, 1500, 2000, 2500, 3000]\n",
    "unique_elements = True\n",
    "\n",
    "table2_dataframe, caption = table2(symbols_list=no_symbols_list, number_of_sequences_list=number_of_sequences_list,\n",
    "                                   context_length=context_length,\n",
    "                                   sequence_length=sequence_length, unique_elements=unique_elements,\n",
    "                                   show_progress=False)\n",
    "\n",
    "display(table2_dataframe.style.format('{:.3g}').set_caption(caption))"
   ],
   "outputs": [
    {
     "data": {
      "text/plain": [
       "<pandas.io.formats.style.Styler at 0x130b0fda0>"
      ],
      "text/html": [
       "<style type=\"text/css\">\n",
       "</style>\n",
       "<table id=\"T_56c35\">\n",
       "  <caption>Scene recognition error in % for various dataset size for sequence length 15, context length 6.</caption>\n",
       "  <thead>\n",
       "    <tr>\n",
       "      <th class=\"blank level0\" >&nbsp;</th>\n",
       "      <th id=\"T_56c35_level0_col0\" class=\"col_heading level0 col0\" >500</th>\n",
       "      <th id=\"T_56c35_level0_col1\" class=\"col_heading level0 col1\" >1000</th>\n",
       "      <th id=\"T_56c35_level0_col2\" class=\"col_heading level0 col2\" >1500</th>\n",
       "      <th id=\"T_56c35_level0_col3\" class=\"col_heading level0 col3\" >2000</th>\n",
       "      <th id=\"T_56c35_level0_col4\" class=\"col_heading level0 col4\" >2500</th>\n",
       "      <th id=\"T_56c35_level0_col5\" class=\"col_heading level0 col5\" >3000</th>\n",
       "    </tr>\n",
       "  </thead>\n",
       "  <tbody>\n",
       "    <tr>\n",
       "      <th id=\"T_56c35_level0_row0\" class=\"row_heading level0 row0\" >1000</th>\n",
       "      <td id=\"T_56c35_row0_col0\" class=\"data row0 col0\" >0.4</td>\n",
       "      <td id=\"T_56c35_row0_col1\" class=\"data row0 col1\" >8.1</td>\n",
       "      <td id=\"T_56c35_row0_col2\" class=\"data row0 col2\" >41.9</td>\n",
       "      <td id=\"T_56c35_row0_col3\" class=\"data row0 col3\" >85.4</td>\n",
       "      <td id=\"T_56c35_row0_col4\" class=\"data row0 col4\" >98.6</td>\n",
       "      <td id=\"T_56c35_row0_col5\" class=\"data row0 col5\" >100</td>\n",
       "    </tr>\n",
       "    <tr>\n",
       "      <th id=\"T_56c35_level0_row1\" class=\"row_heading level0 row1\" >2000</th>\n",
       "      <td id=\"T_56c35_row1_col0\" class=\"data row1 col0\" >0</td>\n",
       "      <td id=\"T_56c35_row1_col1\" class=\"data row1 col1\" >0</td>\n",
       "      <td id=\"T_56c35_row1_col2\" class=\"data row1 col2\" >0.0667</td>\n",
       "      <td id=\"T_56c35_row1_col3\" class=\"data row1 col3\" >0.55</td>\n",
       "      <td id=\"T_56c35_row1_col4\" class=\"data row1 col4\" >0.96</td>\n",
       "      <td id=\"T_56c35_row1_col5\" class=\"data row1 col5\" >2.3</td>\n",
       "    </tr>\n",
       "  </tbody>\n",
       "</table>\n"
      ]
     },
     "metadata": {},
     "output_type": "display_data"
    }
   ],
   "execution_count": 2
  }
 ],
 "metadata": {
  "kernelspec": {
   "display_name": "Python 3 (ipykernel)",
   "language": "python",
   "name": "python3"
  },
  "language_info": {
   "codemirror_mode": {
    "name": "ipython",
    "version": 3
   },
   "file_extension": ".py",
   "mimetype": "text/x-python",
   "name": "python",
   "nbconvert_exporter": "python",
   "pygments_lexer": "ipython3",
   "version": "3.12.7"
  }
 },
 "nbformat": 4,
 "nbformat_minor": 5
}
